{
 "cells": [
  {
   "cell_type": "code",
   "execution_count": 1,
   "id": "095a7b6f-3063-497c-ad86-dfdca1ac8299",
   "metadata": {},
   "outputs": [],
   "source": [
    "from IPython.lib.deepreload import reload\n",
    "%load_ext autoreload\n",
    "%autoreload 2"
   ]
  },
  {
   "cell_type": "code",
   "execution_count": 2,
   "id": "fff255d4-8d75-4449-a2c8-1cfa4511afa0",
   "metadata": {},
   "outputs": [
    {
     "name": "stdout",
     "output_type": "stream",
     "text": [
      "/home/fergus/data/icloud_data/raw_icloud/IMG_4275.jpg\n"
     ]
    }
   ],
   "source": [
    "from pathlib import Path\n",
    "import os \n",
    "\n",
    "PATH = Path('/home/fergus/data/icloud_data/raw_icloud/')\n",
    "\n",
    "def load_photo(fn):\n",
    "    img = io.imread(fn)[...,:3]\n",
    "    return img \n",
    "\n",
    "fn = [x for x in PATH.iterdir()][0]\n",
    "print(fn)\n"
   ]
  },
  {
   "cell_type": "code",
   "execution_count": 3,
   "id": "c4dba400-35dc-49c7-b34d-cdc40087ada0",
   "metadata": {},
   "outputs": [
    {
     "name": "stderr",
     "output_type": "stream",
     "text": [
      "2023-08-02 20:13:04.393408: I tensorflow/core/platform/cpu_feature_guard.cc:182] This TensorFlow binary is optimized to use available CPU instructions in performance-critical operations.\n",
      "To enable the following instructions: AVX2 FMA, in other operations, rebuild TensorFlow with the appropriate compiler flags.\n",
      "2023-08-02 20:13:04.988612: W tensorflow/compiler/tf2tensorrt/utils/py_utils.cc:38] TF-TRT Warning: Could not find TensorRT\n"
     ]
    }
   ],
   "source": [
    "import tensorflow as tf"
   ]
  },
  {
   "cell_type": "code",
   "execution_count": 4,
   "id": "2bf96e80-248f-4703-b4fb-cf5c21065c5e",
   "metadata": {},
   "outputs": [
    {
     "name": "stdout",
     "output_type": "stream",
     "text": [
      "Wed Aug  2 20:13:05 2023       \n",
      "+-----------------------------------------------------------------------------+\n",
      "| NVIDIA-SMI 525.60.13    Driver Version: 525.60.13    CUDA Version: 12.0     |\n",
      "|-------------------------------+----------------------+----------------------+\n",
      "| GPU  Name        Persistence-M| Bus-Id        Disp.A | Volatile Uncorr. ECC |\n",
      "| Fan  Temp  Perf  Pwr:Usage/Cap|         Memory-Usage | GPU-Util  Compute M. |\n",
      "|                               |                      |               MIG M. |\n",
      "|===============================+======================+======================|\n",
      "|   0  NVIDIA GeForce ...  Off  | 00000000:03:00.0 Off |                  Off |\n",
      "|  0%   34C    P8    31W / 450W |     19MiB / 24564MiB |      0%      Default |\n",
      "|                               |                      |                  N/A |\n",
      "+-------------------------------+----------------------+----------------------+\n",
      "                                                                               \n",
      "+-----------------------------------------------------------------------------+\n",
      "| Processes:                                                                  |\n",
      "|  GPU   GI   CI        PID   Type   Process name                  GPU Memory |\n",
      "|        ID   ID                                                   Usage      |\n",
      "|=============================================================================|\n",
      "|    0   N/A  N/A      1295      G   /usr/lib/xorg/Xorg                  9MiB |\n",
      "|    0   N/A  N/A      1438      G   /usr/bin/gnome-shell                8MiB |\n",
      "+-----------------------------------------------------------------------------+\n"
     ]
    }
   ],
   "source": [
    "%%bash\n",
    "nvidia-smi"
   ]
  },
  {
   "cell_type": "code",
   "execution_count": 5,
   "id": "cbba23fb-2127-405c-b34d-b3736494ea9a",
   "metadata": {},
   "outputs": [],
   "source": [
    "from tensorflow.keras.applications.convnext import ConvNeXtTiny"
   ]
  },
  {
   "cell_type": "code",
   "execution_count": 6,
   "id": "61375c1f-65fb-4731-a658-b3c95bd35cd1",
   "metadata": {},
   "outputs": [
    {
     "name": "stderr",
     "output_type": "stream",
     "text": [
      "2023-08-02 20:13:05.845186: I tensorflow/compiler/xla/stream_executor/cuda/cuda_gpu_executor.cc:996] successful NUMA node read from SysFS had negative value (-1), but there must be at least one NUMA node, so returning NUMA node zero. See more at https://github.com/torvalds/linux/blob/v6.0/Documentation/ABI/testing/sysfs-bus-pci#L344-L355\n",
      "2023-08-02 20:13:05.919404: I tensorflow/compiler/xla/stream_executor/cuda/cuda_gpu_executor.cc:996] successful NUMA node read from SysFS had negative value (-1), but there must be at least one NUMA node, so returning NUMA node zero. See more at https://github.com/torvalds/linux/blob/v6.0/Documentation/ABI/testing/sysfs-bus-pci#L344-L355\n",
      "2023-08-02 20:13:05.919615: I tensorflow/compiler/xla/stream_executor/cuda/cuda_gpu_executor.cc:996] successful NUMA node read from SysFS had negative value (-1), but there must be at least one NUMA node, so returning NUMA node zero. See more at https://github.com/torvalds/linux/blob/v6.0/Documentation/ABI/testing/sysfs-bus-pci#L344-L355\n",
      "2023-08-02 20:13:05.921418: I tensorflow/compiler/xla/stream_executor/cuda/cuda_gpu_executor.cc:996] successful NUMA node read from SysFS had negative value (-1), but there must be at least one NUMA node, so returning NUMA node zero. See more at https://github.com/torvalds/linux/blob/v6.0/Documentation/ABI/testing/sysfs-bus-pci#L344-L355\n",
      "2023-08-02 20:13:05.921625: I tensorflow/compiler/xla/stream_executor/cuda/cuda_gpu_executor.cc:996] successful NUMA node read from SysFS had negative value (-1), but there must be at least one NUMA node, so returning NUMA node zero. See more at https://github.com/torvalds/linux/blob/v6.0/Documentation/ABI/testing/sysfs-bus-pci#L344-L355\n",
      "2023-08-02 20:13:05.921787: I tensorflow/compiler/xla/stream_executor/cuda/cuda_gpu_executor.cc:996] successful NUMA node read from SysFS had negative value (-1), but there must be at least one NUMA node, so returning NUMA node zero. See more at https://github.com/torvalds/linux/blob/v6.0/Documentation/ABI/testing/sysfs-bus-pci#L344-L355\n",
      "2023-08-02 20:13:06.317685: I tensorflow/compiler/xla/stream_executor/cuda/cuda_gpu_executor.cc:996] successful NUMA node read from SysFS had negative value (-1), but there must be at least one NUMA node, so returning NUMA node zero. See more at https://github.com/torvalds/linux/blob/v6.0/Documentation/ABI/testing/sysfs-bus-pci#L344-L355\n",
      "2023-08-02 20:13:06.317810: I tensorflow/compiler/xla/stream_executor/cuda/cuda_gpu_executor.cc:996] successful NUMA node read from SysFS had negative value (-1), but there must be at least one NUMA node, so returning NUMA node zero. See more at https://github.com/torvalds/linux/blob/v6.0/Documentation/ABI/testing/sysfs-bus-pci#L344-L355\n",
      "2023-08-02 20:13:06.317892: I tensorflow/compiler/xla/stream_executor/cuda/cuda_gpu_executor.cc:996] successful NUMA node read from SysFS had negative value (-1), but there must be at least one NUMA node, so returning NUMA node zero. See more at https://github.com/torvalds/linux/blob/v6.0/Documentation/ABI/testing/sysfs-bus-pci#L344-L355\n",
      "2023-08-02 20:13:06.317958: I tensorflow/core/common_runtime/gpu/gpu_device.cc:1635] Created device /job:localhost/replica:0/task:0/device:GPU:0 with 22213 MB memory:  -> device: 0, name: NVIDIA GeForce RTX 3090 Ti, pci bus id: 0000:03:00.0, compute capability: 8.6\n"
     ]
    }
   ],
   "source": [
    "model = tf.keras.applications.ConvNeXtTiny(\n",
    "    model_name=\"convnext_tiny\",\n",
    "    include_top=False,\n",
    "    include_preprocessing=True,\n",
    "    weights=\"imagenet\",\n",
    "    input_tensor=None,\n",
    "    input_shape=None,\n",
    "    pooling=None,\n",
    "    classes=1000,\n",
    "    classifier_activation=\"softmax\",\n",
    ")"
   ]
  },
  {
   "cell_type": "code",
   "execution_count": 7,
   "id": "31d8d56a-c586-4b7c-a076-394de4109a73",
   "metadata": {},
   "outputs": [
    {
     "data": {
      "text/plain": [
       "[<KerasTensor: shape=(None, None, None, 768) dtype=float32 (created by layer 'layer_normalization')>]"
      ]
     },
     "execution_count": 7,
     "metadata": {},
     "output_type": "execute_result"
    }
   ],
   "source": [
    "model.outputs"
   ]
  },
  {
   "cell_type": "markdown",
   "id": "f0cd7397-cf84-4986-a0a6-0dd938c31b98",
   "metadata": {},
   "source": [
    "# Finetuning on my dataset "
   ]
  },
  {
   "cell_type": "code",
   "execution_count": 8,
   "id": "881a65cf-4274-44c0-9f8c-95c2be0919a6",
   "metadata": {},
   "outputs": [],
   "source": [
    "import fiftyone as fo\n",
    "\n",
    "\n",
    "dataset = fo.load_dataset(\"icloud\")"
   ]
  },
  {
   "cell_type": "code",
   "execution_count": 10,
   "id": "5196661f-e565-4ac0-b778-96fb0397adec",
   "metadata": {},
   "outputs": [
    {
     "data": {
      "text/plain": [
       "Dataset:     icloud\n",
       "Media type:  image\n",
       "Num samples: 298\n",
       "Sample fields:\n",
       "    id:             fiftyone.core.fields.ObjectIdField\n",
       "    filepath:       fiftyone.core.fields.StringField\n",
       "    tags:           fiftyone.core.fields.ListField(fiftyone.core.fields.StringField)\n",
       "    metadata:       fiftyone.core.fields.EmbeddedDocumentField(fiftyone.core.metadata.ImageMetadata)\n",
       "    tfrecord:       fiftyone.core.fields.BooleanField\n",
       "    ('new_field',): fiftyone.core.fields.EmbeddedDocumentField(fiftyone.core.labels.Classifications)\n",
       "View stages:\n",
       "    1. Match(filter={\"('new_field',)\": {'$exists': True}})"
      ]
     },
     "execution_count": 10,
     "metadata": {},
     "output_type": "execute_result"
    }
   ],
   "source": [
    "# Create a view containing only labeled samples\n",
    "labeled_view = dataset.match({\"('new_field',)\": {\"$exists\": True}})\n",
    "labeled_view"
   ]
  },
  {
   "cell_type": "code",
   "execution_count": 12,
   "id": "67334d13-b8bc-470a-ad8e-a637f0905e29",
   "metadata": {},
   "outputs": [
    {
     "name": "stdout",
     "output_type": "stream",
     "text": [
      "298\n",
      "298\n"
     ]
    },
    {
     "data": {
      "text/plain": [
       "(None, None)"
      ]
     },
     "execution_count": 12,
     "metadata": {},
     "output_type": "execute_result"
    }
   ],
   "source": [
    "import matplotlib.pyplot as plt \n",
    "\n",
    "images, labels = [], []\n",
    "for img in labeled_view:\n",
    "    #print(img)\n",
    "    filepath: str = img.filepath\n",
    "    a_labels = []\n",
    "    for classification in img[\"('new_field',)\"].classifications:\n",
    "        a_labels.append(classification.label)\n",
    "    image = tf.io.decode_jpeg(tf.io.read_file(filepath))\n",
    "    images.append(image)\n",
    "    labels.append(a_labels)\n",
    "print(len(images)),  print(len(labels))                            \n"
   ]
  },
  {
   "cell_type": "code",
   "execution_count": 13,
   "id": "90a671e6-3e08-4bf4-95a0-a6e9d4dd20ec",
   "metadata": {},
   "outputs": [],
   "source": [
    "# resizing \n",
    "images = [tf.image.resize(image, [224, 224], method=tf.image.ResizeMethod.NEAREST_NEIGHBOR) for image in images]"
   ]
  },
  {
   "cell_type": "code",
   "execution_count": 14,
   "id": "a2b708bb-fbff-4d1e-9eb6-2dfbd1ddedb9",
   "metadata": {},
   "outputs": [],
   "source": [
    "images_dataset = tf.data.Dataset.from_tensor_slices(images)"
   ]
  },
  {
   "cell_type": "code",
   "execution_count": 15,
   "id": "d4b080d4-dca6-40b0-9b7d-61bca6b2f218",
   "metadata": {},
   "outputs": [],
   "source": [
    "fergus_labels = [1 if 'fergus' in label else 0 for label in labels]\n",
    "labels_dataset = tf.data.Dataset.from_tensor_slices(fergus_labels)"
   ]
  },
  {
   "cell_type": "code",
   "execution_count": 16,
   "id": "39ca82ff-99b5-4d82-a673-4d60ea421f25",
   "metadata": {},
   "outputs": [],
   "source": [
    "dataset = tf.data.Dataset.zip((images_dataset, labels_dataset))"
   ]
  },
  {
   "cell_type": "code",
   "execution_count": 17,
   "id": "3c5ba975-2bab-468d-b4d6-e615c01bad35",
   "metadata": {},
   "outputs": [],
   "source": [
    "dataset = tf.data.Dataset.from_tensor_slices((images, fergus_labels))"
   ]
  },
  {
   "cell_type": "markdown",
   "id": "ccb55ad4-96f1-4531-82fe-847871ee846d",
   "metadata": {},
   "source": [
    "# Preparing new model"
   ]
  },
  {
   "cell_type": "code",
   "execution_count": 38,
   "id": "6691b594-1783-4b25-a72a-ffa4ec27ca42",
   "metadata": {},
   "outputs": [
    {
     "name": "stdout",
     "output_type": "stream",
     "text": [
      "Model: \"model_15\"\n",
      "_________________________________________________________________\n",
      " Layer (type)                Output Shape              Param #   \n",
      "=================================================================\n",
      " input_1 (InputLayer)        [(None, None, None, 3)]   0         \n",
      "                                                                 \n",
      " convnext_tiny (Functional)  (None, None, None, 768)   27820128  \n",
      "                                                                 \n",
      " global_average_pooling2d_15  (None, 768)              0         \n",
      "  (GlobalAveragePooling2D)                                       \n",
      "                                                                 \n",
      " dense_30 (Dense)            (None, 256)               196864    \n",
      "                                                                 \n",
      " dense_31 (Dense)            (None, 2)                 514       \n",
      "                                                                 \n",
      "=================================================================\n",
      "Total params: 28,017,506\n",
      "Trainable params: 197,378\n",
      "Non-trainable params: 27,820,128\n",
      "_________________________________________________________________\n"
     ]
    }
   ],
   "source": [
    "\n",
    "def get_model():\n",
    "    inputs = model.inputs\n",
    "    x = model(inputs)\n",
    "    x = tf.keras.layers.GlobalAveragePooling2D()(x)\n",
    "    x = tf.keras.layers.Dense(256, activation=tf.nn.softmax)(x)\n",
    "    outputs = tf.keras.layers.Dense(2, activation=tf.nn.softmax)(x)\n",
    "    finetune_model = tf.keras.Model(inputs=inputs, outputs=outputs)\n",
    "    for layer in finetune_model.get_layer(name='convnext_tiny').layers:\n",
    "        layer.trainable = False\n",
    "    return finetune_model\n",
    "finetune_model = get_model()\n",
    "finetune_model.summary()"
   ]
  },
  {
   "cell_type": "code",
   "execution_count": 39,
   "id": "57cac32e-85e2-4ffe-bf74-fc461d995b5f",
   "metadata": {},
   "outputs": [],
   "source": [
    "from sklearn.metrics import accuracy_score \n",
    "import numpy as np\n",
    "\n",
    "def model_eval():\n",
    "    preds = []\n",
    "    for img, label in dataset:\n",
    "        pred = finetune_model(img)\n",
    "        preds.append(np.argmax(pred.numpy()))\n",
    "    return preds\n",
    "\n",
    "preds = model_eval()"
   ]
  },
  {
   "cell_type": "code",
   "execution_count": 40,
   "id": "db03be63-c78c-4b43-9123-12bef1cdc922",
   "metadata": {},
   "outputs": [
    {
     "data": {
      "text/plain": [
       "0.3624161073825503"
      ]
     },
     "execution_count": 40,
     "metadata": {},
     "output_type": "execute_result"
    }
   ],
   "source": [
    "accuracy_score(fergus_labels, preds)"
   ]
  },
  {
   "cell_type": "markdown",
   "id": "e49e4312-5605-478c-91ba-ebec733c4c3a",
   "metadata": {},
   "source": [
    "nice random prediction head = random guessing"
   ]
  },
  {
   "cell_type": "code",
   "execution_count": null,
   "id": "f9c42bcc-2e72-40d3-bfb7-13dacdc08aed",
   "metadata": {},
   "outputs": [],
   "source": []
  },
  {
   "cell_type": "markdown",
   "id": "159da864-57d8-472d-8591-a0e44e1dd7dd",
   "metadata": {},
   "source": [
    "# Training"
   ]
  },
  {
   "cell_type": "code",
   "execution_count": 41,
   "id": "42d25a5c-1c0a-4a2a-abab-7d7ab438d96a",
   "metadata": {},
   "outputs": [
    {
     "name": "stdout",
     "output_type": "stream",
     "text": [
      "Epoch 1/10\n"
     ]
    },
    {
     "name": "stderr",
     "output_type": "stream",
     "text": [
      "2023-08-02 20:24:26.468272: I tensorflow/core/common_runtime/executor.cc:1197] [/device:CPU:0] (DEBUG INFO) Executor start aborting (this does not indicate an error and you can ignore this message): INVALID_ARGUMENT: You must feed a value for placeholder tensor 'Placeholder/_1' with dtype int32 and shape [298]\n",
      "\t [[{{node Placeholder/_1}}]]\n"
     ]
    },
    {
     "name": "stdout",
     "output_type": "stream",
     "text": [
      "19/19 [==============================] - 5s 34ms/step - loss: 0.6968\n",
      "Epoch 2/10\n",
      "19/19 [==============================] - 1s 30ms/step - loss: 0.6935\n",
      "Epoch 3/10\n",
      "19/19 [==============================] - 1s 29ms/step - loss: 0.6932\n",
      "Epoch 4/10\n",
      "19/19 [==============================] - 1s 29ms/step - loss: 0.6932\n",
      "Epoch 5/10\n",
      "19/19 [==============================] - 1s 30ms/step - loss: 0.6931\n",
      "Epoch 6/10\n",
      "19/19 [==============================] - 1s 29ms/step - loss: 0.6931\n",
      "Epoch 7/10\n",
      "19/19 [==============================] - 1s 30ms/step - loss: 0.6931\n",
      "Epoch 8/10\n",
      "19/19 [==============================] - 1s 30ms/step - loss: 0.6931\n",
      "Epoch 9/10\n",
      "19/19 [==============================] - 1s 29ms/step - loss: 0.6931\n",
      "Epoch 10/10\n",
      "19/19 [==============================] - 1s 29ms/step - loss: 0.6931\n"
     ]
    }
   ],
   "source": [
    "finetune_model = get_model()\n",
    "opt = tf.keras.optimizers.AdamW(learning_rate=0.1)\n",
    "bce = tf.keras.losses.BinaryCrossentropy(from_logits=False)\n",
    "finetune_model.compile(optimizer=opt, loss=bce)\n",
    "history = finetune_model.fit(dataset.batch(16), epochs=10)"
   ]
  },
  {
   "cell_type": "code",
   "execution_count": 42,
   "id": "58f0c773-25db-47b8-a0e6-2439f6dc9e72",
   "metadata": {},
   "outputs": [
    {
     "data": {
      "text/plain": [
       "{'loss': [0.6968469023704529,\n",
       "  0.6934947371482849,\n",
       "  0.6931931376457214,\n",
       "  0.6931541562080383,\n",
       "  0.6931479573249817,\n",
       "  0.6931470036506653,\n",
       "  0.6931469440460205,\n",
       "  0.693146824836731,\n",
       "  0.693146824836731,\n",
       "  0.6931468844413757]}"
      ]
     },
     "execution_count": 42,
     "metadata": {},
     "output_type": "execute_result"
    }
   ],
   "source": [
    "history.history"
   ]
  },
  {
   "cell_type": "code",
   "execution_count": 43,
   "id": "24d77ac0-6e2a-4912-a6da-14807d23526c",
   "metadata": {},
   "outputs": [
    {
     "data": {
      "text/plain": [
       "[<matplotlib.lines.Line2D at 0x7f1473fc4490>]"
      ]
     },
     "execution_count": 43,
     "metadata": {},
     "output_type": "execute_result"
    },
    {
     "data": {
      "image/png": "[encoded data removed]",
      "text/plain": [
       "<Figure size 2000x1000 with 1 Axes>"
      ]
     },
     "metadata": {},
     "output_type": "display_data"
    }
   ],
   "source": [
    "fig, axs = plt.subplots(1,1,figsize=(20,10))\n",
    "axs.plot(np.arange(10), history.history['loss'])"
   ]
  },
  {
   "cell_type": "markdown",
   "id": "e6d33bdf-9f61-417d-b6cb-d13f01703dce",
   "metadata": {},
   "source": [
    "loss doesn't change, but have no data. "
   ]
  },
  {
   "cell_type": "code",
   "execution_count": null,
   "id": "3b5e609d-506a-44cf-b568-13579d623ca9",
   "metadata": {},
   "outputs": [],
   "source": []
  }
 ],
 "metadata": {
  "kernelspec": {
   "display_name": "venv3.9",
   "language": "python",
   "name": "venv3.9"
  },
  "language_info": {
   "codemirror_mode": {
    "name": "ipython",
    "version": 3
   },
   "file_extension": ".py",
   "mimetype": "text/x-python",
   "name": "python",
   "nbconvert_exporter": "python",
   "pygments_lexer": "ipython3",
   "version": "3.9.17"
  }
 },
 "nbformat": 4,
 "nbformat_minor": 5
}
