{
 "cells": [
  {
   "cell_type": "code",
   "execution_count": 1,
   "id": "91dad5da-65f2-48c0-84bd-f7e91a2b16e7",
   "metadata": {},
   "outputs": [
    {
     "name": "stderr",
     "output_type": "stream",
     "text": [
      "2023-08-02 15:52:51.465386: I tensorflow/core/platform/cpu_feature_guard.cc:193] This TensorFlow binary is optimized with oneAPI Deep Neural Network Library (oneDNN) to use the following CPU instructions in performance-critical operations:  AVX2 FMA\n",
      "To enable them in other operations, rebuild TensorFlow with the appropriate compiler flags.\n",
      "2023-08-02 15:52:51.968803: W tensorflow/compiler/xla/stream_executor/platform/default/dso_loader.cc:64] Could not load dynamic library 'libnvinfer.so.7'; dlerror: libnvinfer.so.7: cannot open shared object file: No such file or directory\n",
      "2023-08-02 15:52:51.968838: W tensorflow/compiler/xla/stream_executor/platform/default/dso_loader.cc:64] Could not load dynamic library 'libnvinfer_plugin.so.7'; dlerror: libnvinfer_plugin.so.7: cannot open shared object file: No such file or directory\n",
      "2023-08-02 15:52:51.968843: W tensorflow/compiler/tf2tensorrt/utils/py_utils.cc:38] TF-TRT Warning: Cannot dlopen some TensorRT libraries. If you would like to use Nvidia GPU with TensorRT, please make sure the missing libraries mentioned above are installed properly.\n"
     ]
    }
   ],
   "source": [
    "import tensorflow as tf\n",
    "from tensorflow.keras.applications.convnext import ConvNeXtTiny\n",
    "model = tf.keras.applications.ConvNeXtTiny(\n",
    "        model_name=\"convnext_tiny\",\n",
    "        include_top=False,\n",
    "        include_preprocessing=True,\n",
    "        weights=\"imagenet\",\n",
    "        input_tensor=None,\n",
    "        input_shape=None,\n",
    "        pooling=None,\n",
    "        classes=1000,\n",
    "        classifier_activation=\"softmax\",\n",
    "    )"
   ]
  },
  {
   "cell_type": "code",
   "execution_count": 2,
   "id": "d0490052-4052-4048-8045-ff247a0d9524",
   "metadata": {},
   "outputs": [
    {
     "data": {
      "text/plain": [
       "<tf.Tensor: shape=(1, 7, 7, 768), dtype=float32, numpy=\n",
       "array([[[[-8.03448856e-02, -2.03673080e-01, -1.81421459e-01, ...,\n",
       "           1.03446454e-01, -3.39104719e-02,  1.50385886e-01],\n",
       "         [-2.26606112e-02, -1.71030447e-01, -9.64465737e-02, ...,\n",
       "           1.93447806e-04, -1.60392627e-01,  1.32022887e-01],\n",
       "         [ 3.44361342e-03, -1.38828099e-01, -7.29283364e-03, ...,\n",
       "          -1.37965754e-02, -6.27976879e-02,  9.37993824e-02],\n",
       "         ...,\n",
       "         [-9.44787357e-03, -1.29482046e-01, -2.42290143e-02, ...,\n",
       "          -2.80482043e-02, -8.79334956e-02,  9.80561152e-02],\n",
       "         [-2.81685144e-02, -1.58243164e-01, -1.04212262e-01, ...,\n",
       "          -1.81336813e-02, -1.81780279e-01,  1.31842136e-01],\n",
       "         [-9.39488560e-02, -2.04553723e-01, -2.33383909e-01, ...,\n",
       "           6.09684139e-02, -5.43597639e-02,  1.30095705e-01]],\n",
       "\n",
       "        [[-7.41270855e-02, -2.08146721e-01, -9.43578482e-02, ...,\n",
       "           4.68657240e-02, -1.54130414e-01,  7.91877434e-02],\n",
       "         [-4.29595709e-02, -1.36579216e-01,  1.07451063e-02, ...,\n",
       "          -1.37611711e-02, -2.02130333e-01,  6.30745515e-02],\n",
       "         [-4.05085459e-02, -1.01532049e-01,  6.82095885e-02, ...,\n",
       "          -7.51812244e-03, -1.35380879e-01,  4.11298014e-02],\n",
       "         ...,\n",
       "         [-4.90295328e-02, -9.90332440e-02,  5.10635227e-02, ...,\n",
       "          -1.50831845e-02, -1.45677716e-01,  4.75490279e-02],\n",
       "         [-4.56169955e-02, -1.34138301e-01,  2.28440426e-02, ...,\n",
       "          -1.81249827e-02, -2.16033161e-01,  6.15363829e-02],\n",
       "         [-7.29575008e-02, -2.12676525e-01, -9.80043262e-02, ...,\n",
       "           4.50828001e-02, -1.19974568e-01,  7.34164938e-02]],\n",
       "\n",
       "        [[-3.19244452e-02, -1.69981077e-01, -7.13091046e-02, ...,\n",
       "           2.51749344e-02, -1.06059670e-01,  6.45755976e-02],\n",
       "         [-3.98472846e-02, -1.11999601e-01,  2.03517713e-02, ...,\n",
       "          -9.67045315e-03, -6.23356029e-02,  4.33282927e-02],\n",
       "         [-3.67726684e-02, -9.67971012e-02,  2.70347502e-02, ...,\n",
       "          -1.91618297e-02,  9.46696103e-03,  4.05400097e-02],\n",
       "         ...,\n",
       "         [-4.62148376e-02, -1.02407664e-01, -6.55416120e-03, ...,\n",
       "          -2.13985462e-02, -3.73434182e-03,  5.41407727e-02],\n",
       "         [-4.87726331e-02, -1.09790333e-01,  3.30059864e-02, ...,\n",
       "          -1.61235202e-02, -8.88442621e-02,  4.01108973e-02],\n",
       "         [-4.09151241e-02, -1.67509943e-01, -6.66443855e-02, ...,\n",
       "           2.72250660e-02, -2.80841049e-02,  4.54600900e-02]],\n",
       "\n",
       "        ...,\n",
       "\n",
       "        [[-2.45178994e-02, -1.52512610e-01, -7.18131959e-02, ...,\n",
       "           2.14920305e-02, -8.37932378e-02,  5.02166189e-02],\n",
       "         [-2.46503092e-02, -8.98445472e-02,  2.86711939e-02, ...,\n",
       "          -2.39478890e-02, -1.83758084e-02,  3.02435607e-02],\n",
       "         [-2.56773420e-02, -7.87085518e-02,  3.32684517e-02, ...,\n",
       "          -3.84364128e-02,  1.20814830e-01,  8.31115525e-03],\n",
       "         ...,\n",
       "         [-4.00196053e-02, -8.49080756e-02,  9.05001163e-03, ...,\n",
       "          -4.17286232e-02,  8.98039192e-02,  1.61914285e-02],\n",
       "         [-3.68617028e-02, -8.89499411e-02,  4.04529944e-02, ...,\n",
       "          -2.63383314e-02, -3.18884403e-02,  2.49915328e-02],\n",
       "         [-3.82529981e-02, -1.53453127e-01, -7.52434358e-02, ...,\n",
       "           2.35387702e-02, -1.85705032e-02,  3.26160267e-02]],\n",
       "\n",
       "        [[-7.85448402e-02, -2.11056188e-01, -1.62996933e-01, ...,\n",
       "           3.95907648e-02, -1.17471755e-01,  5.20535111e-02],\n",
       "         [-2.03803107e-02, -1.52103677e-01, -3.34621072e-02, ...,\n",
       "          -3.91636491e-02, -1.32493466e-01,  2.02875733e-02],\n",
       "         [-2.19265260e-02, -1.06681965e-01,  5.53817973e-02, ...,\n",
       "          -3.53412516e-02,  5.93698993e-02, -8.69222730e-03],\n",
       "         ...,\n",
       "         [-3.17045264e-02, -1.07867017e-01,  2.58421190e-02, ...,\n",
       "          -4.64316420e-02,  1.57172456e-02, -1.67144462e-05],\n",
       "         [-2.86626108e-02, -1.46736294e-01, -2.85703596e-02, ...,\n",
       "          -4.40530255e-02, -1.53705180e-01,  2.54107956e-02],\n",
       "         [-8.20197165e-02, -2.06505582e-01, -1.79704517e-01, ...,\n",
       "           3.97744589e-02, -9.89935473e-02,  4.17494178e-02]],\n",
       "\n",
       "        [[-1.50027871e-01, -1.67674959e-01, -2.30398595e-01, ...,\n",
       "           1.00412041e-01,  6.12083375e-02,  1.36111408e-01],\n",
       "         [-7.07929507e-02, -1.19609676e-01, -1.89874902e-01, ...,\n",
       "          -3.20600830e-02, -1.07127316e-01,  9.17880982e-02],\n",
       "         [-2.31051315e-02, -7.59726688e-02, -8.61502886e-02, ...,\n",
       "          -3.39844488e-02, -2.94437408e-02,  4.86404188e-02],\n",
       "         ...,\n",
       "         [-4.30271551e-02, -6.02613352e-02, -1.10652126e-01, ...,\n",
       "          -5.14254160e-02, -5.61490096e-02,  5.91278784e-02],\n",
       "         [-9.09832716e-02, -9.70248505e-02, -1.99926630e-01, ...,\n",
       "          -4.88458015e-02, -1.20154701e-01,  9.78057459e-02],\n",
       "         [-1.79091349e-01, -1.50124013e-01, -3.12021434e-01, ...,\n",
       "           8.59494954e-02,  4.73845825e-02,  1.49333924e-01]]]],\n",
       "      dtype=float32)>"
      ]
     },
     "execution_count": 2,
     "metadata": {},
     "output_type": "execute_result"
    }
   ],
   "source": [
    "import numpy as np\n",
    "\n",
    "model(np.ones((1,224,224,3)))"
   ]
  },
  {
   "cell_type": "code",
   "execution_count": 3,
   "id": "8c291c4e-405a-4805-af52-7dc558387568",
   "metadata": {},
   "outputs": [
    {
     "name": "stdout",
     "output_type": "stream",
     "text": [
      "Model: \"sequential\"\n",
      "_________________________________________________________________\n",
      " Layer (type)                Output Shape              Param #   \n",
      "=================================================================\n",
      " conv2d (Conv2D)             (None, 126, 126, 32)      896       \n",
      "                                                                 \n",
      " max_pooling2d (MaxPooling2D  (None, 63, 63, 32)       0         \n",
      " )                                                               \n",
      "                                                                 \n",
      " conv2d_1 (Conv2D)           (None, 61, 61, 64)        18496     \n",
      "                                                                 \n",
      " max_pooling2d_1 (MaxPooling  (None, 30, 30, 64)       0         \n",
      " 2D)                                                             \n",
      "                                                                 \n",
      " conv2d_2 (Conv2D)           (None, 28, 28, 128)       73856     \n",
      "                                                                 \n",
      " max_pooling2d_2 (MaxPooling  (None, 14, 14, 128)      0         \n",
      " 2D)                                                             \n",
      "                                                                 \n",
      " flatten (Flatten)           (None, 25088)             0         \n",
      "                                                                 \n",
      " dense (Dense)               (None, 128)               3211392   \n",
      "                                                                 \n",
      " dense_1 (Dense)             (None, 10)                1290      \n",
      "                                                                 \n",
      "=================================================================\n",
      "Total params: 3,305,930\n",
      "Trainable params: 3,305,930\n",
      "Non-trainable params: 0\n",
      "_________________________________________________________________\n"
     ]
    }
   ],
   "source": [
    "import tensorflow as tf\n",
    "from tensorflow.keras.models import Sequential\n",
    "from tensorflow.keras.layers import Conv2D, MaxPooling2D, Flatten, Dense\n",
    "\n",
    "def create_image_model(input_shape, num_classes):\n",
    "    model = Sequential()\n",
    "\n",
    "    # Convolutional layers\n",
    "    model.add(Conv2D(32, (3, 3), activation='relu', input_shape=input_shape))\n",
    "    model.add(MaxPooling2D((2, 2)))\n",
    "    model.add(Conv2D(64, (3, 3), activation='relu'))\n",
    "    model.add(MaxPooling2D((2, 2)))\n",
    "    model.add(Conv2D(128, (3, 3), activation='relu'))\n",
    "    model.add(MaxPooling2D((2, 2)))\n",
    "\n",
    "    # Flatten the output of the convolutional layers\n",
    "    model.add(Flatten())\n",
    "\n",
    "    # Fully connected layers\n",
    "    model.add(Dense(128, activation='relu'))\n",
    "    model.add(Dense(num_classes, activation='softmax'))\n",
    "\n",
    "    return model\n",
    "\n",
    "# Example usage:\n",
    "input_shape = (128, 128, 3)  # Assuming input images are 128x128 pixels with 3 color channels (RGB)\n",
    "num_classes = 10  # Number of output classes (change this based on your task)\n",
    "\n",
    "model = create_image_model(input_shape, num_classes)\n",
    "model.summary()\n"
   ]
  },
  {
   "cell_type": "code",
   "execution_count": 5,
   "id": "b1172bca-59cf-4dc8-a41e-8251c83e81d9",
   "metadata": {},
   "outputs": [
    {
     "name": "stderr",
     "output_type": "stream",
     "text": [
      "2023-08-02 01:04:36.568168: E tensorflow/compiler/xla/stream_executor/cuda/cuda_dnn.cc:433] Could not create cudnn handle: CUDNN_STATUS_INTERNAL_ERROR\n",
      "2023-08-02 01:04:36.568189: W tensorflow/core/framework/op_kernel.cc:1830] OP_REQUIRES failed at conv_ops.cc:1152 : UNIMPLEMENTED: DNN library is not found.\n"
     ]
    },
    {
     "ename": "UnimplementedError",
     "evalue": "Exception encountered when calling layer 'conv2d' (type Conv2D).\n\n{{function_node __wrapped__Conv2D_device_/job:localhost/replica:0/task:0/device:GPU:0}} DNN library is not found. [Op:Conv2D]\n\nCall arguments received by layer 'conv2d' (type Conv2D):\n  • inputs=tf.Tensor(shape=(1, 128, 128, 3), dtype=float32)",
     "output_type": "error",
     "traceback": [
      "\u001b[0;31m---------------------------------------------------------------------------\u001b[0m",
      "\u001b[0;31mUnimplementedError\u001b[0m                        Traceback (most recent call last)",
      "Cell \u001b[0;32mIn[5], line 1\u001b[0m\n\u001b[0;32m----> 1\u001b[0m \u001b[43mmodel\u001b[49m\u001b[43m(\u001b[49m\u001b[43mnp\u001b[49m\u001b[38;5;241;43m.\u001b[39;49m\u001b[43mones\u001b[49m\u001b[43m(\u001b[49m\u001b[43m(\u001b[49m\u001b[38;5;241;43m1\u001b[39;49m\u001b[43m,\u001b[49m\u001b[43m \u001b[49m\u001b[38;5;241;43m128\u001b[39;49m\u001b[43m,\u001b[49m\u001b[43m \u001b[49m\u001b[38;5;241;43m128\u001b[39;49m\u001b[43m,\u001b[49m\u001b[43m \u001b[49m\u001b[38;5;241;43m3\u001b[39;49m\u001b[43m)\u001b[49m\u001b[43m)\u001b[49m\u001b[43m)\u001b[49m\n",
      "File \u001b[0;32m~/.local/lib/python3.10/site-packages/keras/utils/traceback_utils.py:70\u001b[0m, in \u001b[0;36mfilter_traceback.<locals>.error_handler\u001b[0;34m(*args, **kwargs)\u001b[0m\n\u001b[1;32m     67\u001b[0m     filtered_tb \u001b[38;5;241m=\u001b[39m _process_traceback_frames(e\u001b[38;5;241m.\u001b[39m__traceback__)\n\u001b[1;32m     68\u001b[0m     \u001b[38;5;66;03m# To get the full stack trace, call:\u001b[39;00m\n\u001b[1;32m     69\u001b[0m     \u001b[38;5;66;03m# `tf.debugging.disable_traceback_filtering()`\u001b[39;00m\n\u001b[0;32m---> 70\u001b[0m     \u001b[38;5;28;01mraise\u001b[39;00m e\u001b[38;5;241m.\u001b[39mwith_traceback(filtered_tb) \u001b[38;5;28;01mfrom\u001b[39;00m \u001b[38;5;28mNone\u001b[39m\n\u001b[1;32m     71\u001b[0m \u001b[38;5;28;01mfinally\u001b[39;00m:\n\u001b[1;32m     72\u001b[0m     \u001b[38;5;28;01mdel\u001b[39;00m filtered_tb\n",
      "File \u001b[0;32m~/.local/lib/python3.10/site-packages/tensorflow/python/framework/ops.py:7215\u001b[0m, in \u001b[0;36mraise_from_not_ok_status\u001b[0;34m(e, name)\u001b[0m\n\u001b[1;32m   7213\u001b[0m \u001b[38;5;28;01mdef\u001b[39;00m \u001b[38;5;21mraise_from_not_ok_status\u001b[39m(e, name):\n\u001b[1;32m   7214\u001b[0m   e\u001b[38;5;241m.\u001b[39mmessage \u001b[38;5;241m+\u001b[39m\u001b[38;5;241m=\u001b[39m (\u001b[38;5;124m\"\u001b[39m\u001b[38;5;124m name: \u001b[39m\u001b[38;5;124m\"\u001b[39m \u001b[38;5;241m+\u001b[39m name \u001b[38;5;28;01mif\u001b[39;00m name \u001b[38;5;129;01mis\u001b[39;00m \u001b[38;5;129;01mnot\u001b[39;00m \u001b[38;5;28;01mNone\u001b[39;00m \u001b[38;5;28;01melse\u001b[39;00m \u001b[38;5;124m\"\u001b[39m\u001b[38;5;124m\"\u001b[39m)\n\u001b[0;32m-> 7215\u001b[0m   \u001b[38;5;28;01mraise\u001b[39;00m core\u001b[38;5;241m.\u001b[39m_status_to_exception(e) \u001b[38;5;28;01mfrom\u001b[39;00m \u001b[38;5;28mNone\u001b[39m\n",
      "\u001b[0;31mUnimplementedError\u001b[0m: Exception encountered when calling layer 'conv2d' (type Conv2D).\n\n{{function_node __wrapped__Conv2D_device_/job:localhost/replica:0/task:0/device:GPU:0}} DNN library is not found. [Op:Conv2D]\n\nCall arguments received by layer 'conv2d' (type Conv2D):\n  • inputs=tf.Tensor(shape=(1, 128, 128, 3), dtype=float32)"
     ]
    }
   ],
   "source": [
    "model(np.ones((1, 128, 128, 3)))"
   ]
  },
  {
   "cell_type": "code",
   "execution_count": null,
   "id": "cde8a841-b899-4b33-ab2d-3cd45b49d961",
   "metadata": {},
   "outputs": [],
   "source": []
  }
 ],
 "metadata": {
  "kernelspec": {
   "display_name": "dlvenv",
   "language": "python",
   "name": "dlvenv"
  },
  "language_info": {
   "codemirror_mode": {
    "name": "ipython",
    "version": 3
   },
   "file_extension": ".py",
   "mimetype": "text/x-python",
   "name": "python",
   "nbconvert_exporter": "python",
   "pygments_lexer": "ipython3",
   "version": "3.10.12"
  }
 },
 "nbformat": 4,
 "nbformat_minor": 5
}
