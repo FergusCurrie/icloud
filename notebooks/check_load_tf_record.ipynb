{
 "cells": [
  {
   "cell_type": "markdown",
   "id": "17791780-4449-432d-b880-f33ef37c8d20",
   "metadata": {},
   "source": [
    "# Check loading tfrecord"
   ]
  },
  {
   "cell_type": "code",
   "execution_count": 2,
   "id": "3847e151-decd-40b4-af57-5f8ea44d5ae2",
   "metadata": {},
   "outputs": [
    {
     "data": {
      "text/plain": [
       "<TFRecordDatasetV2 element_spec=TensorSpec(shape=(), dtype=tf.string, name=None)>"
      ]
     },
     "execution_count": 2,
     "metadata": {},
     "output_type": "execute_result"
    }
   ],
   "source": [
    "import tensorflow as tf \n",
    "filenames = [\"tfrecord/icloud_data.tfrecord\"]\n",
    "raw_dataset = tf.data.TFRecordDataset(filenames)\n",
    "raw_dataset"
   ]
  },
  {
   "cell_type": "code",
   "execution_count": null,
   "id": "9b304d1b-73f9-481d-a0c0-426d617d6259",
   "metadata": {},
   "outputs": [],
   "source": []
  }
 ],
 "metadata": {
  "kernelspec": {
   "display_name": "venv3.9",
   "language": "python",
   "name": "venv3.9"
  },
  "language_info": {
   "codemirror_mode": {
    "name": "ipython",
    "version": 3
   },
   "file_extension": ".py",
   "mimetype": "text/x-python",
   "name": "python",
   "nbconvert_exporter": "python",
   "pygments_lexer": "ipython3",
   "version": "3.9.17"
  }
 },
 "nbformat": 4,
 "nbformat_minor": 5
}
