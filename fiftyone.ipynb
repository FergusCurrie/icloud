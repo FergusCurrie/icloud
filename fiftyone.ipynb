{
 "cells": [
  {
   "cell_type": "markdown",
   "id": "35dc39cf-e0db-480d-9286-05f754662ce5",
   "metadata": {},
   "source": [
    "# fifty one "
   ]
  },
  {
   "cell_type": "code",
   "execution_count": 1,
   "id": "0f407701-1ab0-45c1-88c4-5cb9674323ff",
   "metadata": {},
   "outputs": [],
   "source": [
    "from pathlib import Path\n",
    "import os \n",
    "\n",
    "PATH = Path('/home/fergus/data/icloud_data/raw_icloud/')\n",
    "\n"
   ]
  },
  {
   "cell_type": "code",
   "execution_count": 2,
   "id": "a69babb9-8841-4136-8b34-0bd1a7579cf3",
   "metadata": {
    "collapsed": true,
    "jupyter": {
     "outputs_hidden": true
    },
    "tags": []
   },
   "outputs": [
    {
     "ename": "ValueError",
     "evalue": "Dataset name 'icloud' is not available",
     "output_type": "error",
     "traceback": [
      "\u001b[0;31m---------------------------------------------------------------------------\u001b[0m",
      "\u001b[0;31mValueError\u001b[0m                                Traceback (most recent call last)",
      "Cell \u001b[0;32mIn[2], line 12\u001b[0m\n\u001b[1;32m      9\u001b[0m \u001b[38;5;66;03m# The type of the dataset being imported\u001b[39;00m\n\u001b[1;32m     10\u001b[0m dataset_type \u001b[38;5;241m=\u001b[39m fo\u001b[38;5;241m.\u001b[39mtypes\u001b[38;5;241m.\u001b[39mImageDirectory\n\u001b[0;32m---> 12\u001b[0m dataset \u001b[38;5;241m=\u001b[39m \u001b[43mfo\u001b[49m\u001b[38;5;241;43m.\u001b[39;49m\u001b[43mDataset\u001b[49m\u001b[38;5;241;43m.\u001b[39;49m\u001b[43mfrom_dir\u001b[49m\u001b[43m(\u001b[49m\n\u001b[1;32m     13\u001b[0m \u001b[43m    \u001b[49m\u001b[43mdataset_dir\u001b[49m\u001b[38;5;241;43m=\u001b[39;49m\u001b[43mdataset_dir\u001b[49m\u001b[43m,\u001b[49m\n\u001b[1;32m     14\u001b[0m \u001b[43m    \u001b[49m\u001b[43mdataset_type\u001b[49m\u001b[38;5;241;43m=\u001b[39;49m\u001b[43mdataset_type\u001b[49m\u001b[43m,\u001b[49m\n\u001b[1;32m     15\u001b[0m \u001b[43m    \u001b[49m\u001b[43mname\u001b[49m\u001b[38;5;241;43m=\u001b[39;49m\u001b[43mname\u001b[49m\u001b[43m,\u001b[49m\n\u001b[1;32m     16\u001b[0m \u001b[43m)\u001b[49m\n",
      "File \u001b[0;32m~/.local/lib/python3.10/site-packages/fiftyone/core/dataset.py:5314\u001b[0m, in \u001b[0;36mDataset.from_dir\u001b[0;34m(cls, dataset_dir, dataset_type, data_path, labels_path, name, persistent, overwrite, label_field, tags, dynamic, **kwargs)\u001b[0m\n\u001b[1;32m   5206\u001b[0m \u001b[38;5;129m@classmethod\u001b[39m\n\u001b[1;32m   5207\u001b[0m \u001b[38;5;28;01mdef\u001b[39;00m \u001b[38;5;21mfrom_dir\u001b[39m(\n\u001b[1;32m   5208\u001b[0m     \u001b[38;5;28mcls\u001b[39m,\n\u001b[0;32m   (...)\u001b[0m\n\u001b[1;32m   5219\u001b[0m     \u001b[38;5;241m*\u001b[39m\u001b[38;5;241m*\u001b[39mkwargs,\n\u001b[1;32m   5220\u001b[0m ):\n\u001b[1;32m   5221\u001b[0m     \u001b[38;5;124;03m\"\"\"Creates a :class:`Dataset` from the contents of the given directory.\u001b[39;00m\n\u001b[1;32m   5222\u001b[0m \n\u001b[1;32m   5223\u001b[0m \u001b[38;5;124;03m    You can create datasets with this method via the following basic\u001b[39;00m\n\u001b[0;32m   (...)\u001b[0m\n\u001b[1;32m   5312\u001b[0m \u001b[38;5;124;03m        a :class:`Dataset`\u001b[39;00m\n\u001b[1;32m   5313\u001b[0m \u001b[38;5;124;03m    \"\"\"\u001b[39;00m\n\u001b[0;32m-> 5314\u001b[0m     dataset \u001b[38;5;241m=\u001b[39m \u001b[38;5;28;43mcls\u001b[39;49m\u001b[43m(\u001b[49m\u001b[43mname\u001b[49m\u001b[43m,\u001b[49m\u001b[43m \u001b[49m\u001b[43mpersistent\u001b[49m\u001b[38;5;241;43m=\u001b[39;49m\u001b[43mpersistent\u001b[49m\u001b[43m,\u001b[49m\u001b[43m \u001b[49m\u001b[43moverwrite\u001b[49m\u001b[38;5;241;43m=\u001b[39;49m\u001b[43moverwrite\u001b[49m\u001b[43m)\u001b[49m\n\u001b[1;32m   5315\u001b[0m     dataset\u001b[38;5;241m.\u001b[39madd_dir(\n\u001b[1;32m   5316\u001b[0m         dataset_dir\u001b[38;5;241m=\u001b[39mdataset_dir,\n\u001b[1;32m   5317\u001b[0m         dataset_type\u001b[38;5;241m=\u001b[39mdataset_type,\n\u001b[0;32m   (...)\u001b[0m\n\u001b[1;32m   5323\u001b[0m         \u001b[38;5;241m*\u001b[39m\u001b[38;5;241m*\u001b[39mkwargs,\n\u001b[1;32m   5324\u001b[0m     )\n\u001b[1;32m   5325\u001b[0m     \u001b[38;5;28;01mreturn\u001b[39;00m dataset\n",
      "File \u001b[0;32m~/.local/lib/python3.10/site-packages/fiftyone/core/singletons.py:36\u001b[0m, in \u001b[0;36mDatasetSingleton.__call__\u001b[0;34m(cls, name, _create, *args, **kwargs)\u001b[0m\n\u001b[1;32m     29\u001b[0m \u001b[38;5;28;01mif\u001b[39;00m (\n\u001b[1;32m     30\u001b[0m     _create\n\u001b[1;32m     31\u001b[0m     \u001b[38;5;129;01mor\u001b[39;00m instance \u001b[38;5;129;01mis\u001b[39;00m \u001b[38;5;28;01mNone\u001b[39;00m\n\u001b[1;32m     32\u001b[0m     \u001b[38;5;129;01mor\u001b[39;00m instance\u001b[38;5;241m.\u001b[39mdeleted\n\u001b[1;32m     33\u001b[0m     \u001b[38;5;129;01mor\u001b[39;00m instance\u001b[38;5;241m.\u001b[39mname \u001b[38;5;129;01mis\u001b[39;00m \u001b[38;5;28;01mNone\u001b[39;00m\n\u001b[1;32m     34\u001b[0m ):\n\u001b[1;32m     35\u001b[0m     instance \u001b[38;5;241m=\u001b[39m \u001b[38;5;28mcls\u001b[39m\u001b[38;5;241m.\u001b[39m\u001b[38;5;21m__new__\u001b[39m(\u001b[38;5;28mcls\u001b[39m)\n\u001b[0;32m---> 36\u001b[0m     \u001b[43minstance\u001b[49m\u001b[38;5;241;43m.\u001b[39;49m\u001b[38;5;21;43m__init__\u001b[39;49m\u001b[43m(\u001b[49m\u001b[43mname\u001b[49m\u001b[38;5;241;43m=\u001b[39;49m\u001b[43mname\u001b[49m\u001b[43m,\u001b[49m\u001b[43m \u001b[49m\u001b[43m_create\u001b[49m\u001b[38;5;241;43m=\u001b[39;49m\u001b[43m_create\u001b[49m\u001b[43m,\u001b[49m\u001b[43m \u001b[49m\u001b[38;5;241;43m*\u001b[39;49m\u001b[43margs\u001b[49m\u001b[43m,\u001b[49m\u001b[43m \u001b[49m\u001b[38;5;241;43m*\u001b[39;49m\u001b[38;5;241;43m*\u001b[39;49m\u001b[43mkwargs\u001b[49m\u001b[43m)\u001b[49m\n\u001b[1;32m     37\u001b[0m     name \u001b[38;5;241m=\u001b[39m instance\u001b[38;5;241m.\u001b[39mname  \u001b[38;5;66;03m# `__init__` may have changed `name`\u001b[39;00m\n\u001b[1;32m     38\u001b[0m \u001b[38;5;28;01melse\u001b[39;00m:\n",
      "File \u001b[0;32m~/.local/lib/python3.10/site-packages/fiftyone/core/dataset.py:267\u001b[0m, in \u001b[0;36mDataset.__init__\u001b[0;34m(self, name, persistent, overwrite, _create, _virtual, **kwargs)\u001b[0m\n\u001b[1;32m    264\u001b[0m     delete_dataset(name)\n\u001b[1;32m    266\u001b[0m \u001b[38;5;28;01mif\u001b[39;00m _create:\n\u001b[0;32m--> 267\u001b[0m     doc, sample_doc_cls, frame_doc_cls \u001b[38;5;241m=\u001b[39m \u001b[43m_create_dataset\u001b[49m\u001b[43m(\u001b[49m\n\u001b[1;32m    268\u001b[0m \u001b[43m        \u001b[49m\u001b[38;5;28;43mself\u001b[39;49m\u001b[43m,\u001b[49m\u001b[43m \u001b[49m\u001b[43mname\u001b[49m\u001b[43m,\u001b[49m\u001b[43m \u001b[49m\u001b[43mpersistent\u001b[49m\u001b[38;5;241;43m=\u001b[39;49m\u001b[43mpersistent\u001b[49m\u001b[43m,\u001b[49m\u001b[43m \u001b[49m\u001b[38;5;241;43m*\u001b[39;49m\u001b[38;5;241;43m*\u001b[39;49m\u001b[43mkwargs\u001b[49m\n\u001b[1;32m    269\u001b[0m \u001b[43m    \u001b[49m\u001b[43m)\u001b[49m\n\u001b[1;32m    270\u001b[0m \u001b[38;5;28;01melse\u001b[39;00m:\n\u001b[1;32m    271\u001b[0m     doc, sample_doc_cls, frame_doc_cls \u001b[38;5;241m=\u001b[39m _load_dataset(\n\u001b[1;32m    272\u001b[0m         \u001b[38;5;28mself\u001b[39m, name, virtual\u001b[38;5;241m=\u001b[39m_virtual\n\u001b[1;32m    273\u001b[0m     )\n",
      "File \u001b[0;32m~/.local/lib/python3.10/site-packages/fiftyone/core/dataset.py:6623\u001b[0m, in \u001b[0;36m_create_dataset\u001b[0;34m(obj, name, persistent, _patches, _frames, _clips, _src_collection)\u001b[0m\n\u001b[1;32m   6614\u001b[0m \u001b[38;5;28;01mdef\u001b[39;00m \u001b[38;5;21m_create_dataset\u001b[39m(\n\u001b[1;32m   6615\u001b[0m     obj,\n\u001b[1;32m   6616\u001b[0m     name,\n\u001b[0;32m   (...)\u001b[0m\n\u001b[1;32m   6621\u001b[0m     _src_collection\u001b[38;5;241m=\u001b[39m\u001b[38;5;28;01mNone\u001b[39;00m,\n\u001b[1;32m   6622\u001b[0m ):\n\u001b[0;32m-> 6623\u001b[0m     slug \u001b[38;5;241m=\u001b[39m \u001b[43m_validate_dataset_name\u001b[49m\u001b[43m(\u001b[49m\u001b[43mname\u001b[49m\u001b[43m)\u001b[49m\n\u001b[1;32m   6625\u001b[0m     _id \u001b[38;5;241m=\u001b[39m ObjectId()\n\u001b[1;32m   6627\u001b[0m     sample_collection_name \u001b[38;5;241m=\u001b[39m _make_sample_collection_name(\n\u001b[1;32m   6628\u001b[0m         _id, patches\u001b[38;5;241m=\u001b[39m_patches, frames\u001b[38;5;241m=\u001b[39m_frames, clips\u001b[38;5;241m=\u001b[39m_clips\n\u001b[1;32m   6629\u001b[0m     )\n",
      "File \u001b[0;32m~/.local/lib/python3.10/site-packages/fiftyone/core/dataset.py:106\u001b[0m, in \u001b[0;36m_validate_dataset_name\u001b[0;34m(name, skip)\u001b[0m\n\u001b[1;32m    104\u001b[0m conn \u001b[38;5;241m=\u001b[39m foo\u001b[38;5;241m.\u001b[39mget_db_conn()\n\u001b[1;32m    105\u001b[0m \u001b[38;5;28;01mif\u001b[39;00m \u001b[38;5;28mbool\u001b[39m(\u001b[38;5;28mlist\u001b[39m(conn\u001b[38;5;241m.\u001b[39mdatasets\u001b[38;5;241m.\u001b[39mfind(query, {\u001b[38;5;124m\"\u001b[39m\u001b[38;5;124m_id\u001b[39m\u001b[38;5;124m\"\u001b[39m: \u001b[38;5;241m1\u001b[39m})\u001b[38;5;241m.\u001b[39mlimit(\u001b[38;5;241m1\u001b[39m))):\n\u001b[0;32m--> 106\u001b[0m     \u001b[38;5;28;01mraise\u001b[39;00m \u001b[38;5;167;01mValueError\u001b[39;00m(\u001b[38;5;124m\"\u001b[39m\u001b[38;5;124mDataset name \u001b[39m\u001b[38;5;124m'\u001b[39m\u001b[38;5;132;01m%s\u001b[39;00m\u001b[38;5;124m'\u001b[39m\u001b[38;5;124m is not available\u001b[39m\u001b[38;5;124m\"\u001b[39m \u001b[38;5;241m%\u001b[39m name)\n\u001b[1;32m    108\u001b[0m \u001b[38;5;28;01mreturn\u001b[39;00m slug\n",
      "\u001b[0;31mValueError\u001b[0m: Dataset name 'icloud' is not available"
     ]
    }
   ],
   "source": [
    "import fiftyone as fo\n",
    "\n",
    "# A name for the dataset\n",
    "name = \"icloud\"\n",
    "\n",
    "# The directory containing the dataset to import\n",
    "dataset_dir = str(PATH)\n",
    "\n",
    "# The type of the dataset being imported\n",
    "dataset_type = fo.types.ImageDirectory\n",
    "\n",
    "dataset = fo.Dataset.from_dir(\n",
    "    dataset_dir=dataset_dir,\n",
    "    dataset_type=dataset_type,\n",
    "    name=name,\n",
    ")"
   ]
  },
  {
   "cell_type": "code",
   "execution_count": 5,
   "id": "49472194-aa0f-48d8-b07f-3a6e721efa66",
   "metadata": {},
   "outputs": [],
   "source": [
    "dataset = fo.load_dataset(\"icloud\")"
   ]
  },
  {
   "cell_type": "markdown",
   "id": "2621bc80-96aa-4b88-b583-4468e567bc0b",
   "metadata": {},
   "source": [
    "# Creating annotation jobs"
   ]
  },
  {
   "cell_type": "code",
   "execution_count": 7,
   "id": "88fd3454-c958-449e-8991-94132fe2fbe5",
   "metadata": {},
   "outputs": [
    {
     "data": {
      "text/plain": [
       "Dataset:     icloud\n",
       "Media type:  image\n",
       "Num samples: 2\n",
       "Sample fields:\n",
       "    id:       fiftyone.core.fields.ObjectIdField\n",
       "    filepath: fiftyone.core.fields.StringField\n",
       "    tags:     fiftyone.core.fields.ListField(fiftyone.core.fields.StringField)\n",
       "    metadata: fiftyone.core.fields.EmbeddedDocumentField(fiftyone.core.metadata.ImageMetadata)\n",
       "View stages:\n",
       "    1. Exists(field='metadata', bool=False)\n",
       "    2. Limit(limit=5)"
      ]
     },
     "execution_count": 7,
     "metadata": {},
     "output_type": "execute_result"
    }
   ],
   "source": [
    "dataset.exists(\"metadata\", False).limit(5)"
   ]
  },
  {
   "cell_type": "code",
   "execution_count": 8,
   "id": "0964ee1f-6cd0-44d3-9dc5-7fea54a2ea74",
   "metadata": {},
   "outputs": [
    {
     "data": {
      "text/plain": [
       "fiftyone.core.view.DatasetView"
      ]
     },
     "execution_count": 8,
     "metadata": {},
     "output_type": "execute_result"
    }
   ],
   "source": [
    "view = dataset.exists(\"metadata\", True)\n",
    "type(view)"
   ]
  },
  {
   "cell_type": "code",
   "execution_count": null,
   "id": "beff0f85-0ff2-43a4-a1e3-36dc7d122d1a",
   "metadata": {},
   "outputs": [],
   "source": []
  },
  {
   "cell_type": "code",
   "execution_count": null,
   "id": "86497c15-dfba-4ab7-bd3a-972a03e88962",
   "metadata": {},
   "outputs": [
    {
     "name": "stdout",
     "output_type": "stream",
     "text": [
      "Please enter your login credentials.\n",
      "You can avoid this in the future by setting your `FIFTYONE_CVAT_USERNAME` and `FIFTYONE_CVAT_PASSWORD` environment variables\n"
     ]
    },
    {
     "name": "stdin",
     "output_type": "stream",
     "text": [
      "Username:  fergus.currie@gmail.com\n",
      "Password:  ········\n"
     ]
    },
    {
     "name": "stdout",
     "output_type": "stream",
     "text": [
      "Uploading samples to CVAT...\n",
      "Arguments the caused this error were:\n"
     ]
    }
   ],
   "source": [
    "from fiftyone import ViewField as F\n",
    "\n",
    "label_schema = {\n",
    "    \"new_field\": {\n",
    "        \"type\": \"classifications\",\n",
    "        \"classes\": [\"class1\", \"class2\"],\n",
    "        \"attributes\": {\n",
    "            \"attr1\": {\n",
    "                \"type\": \"select\",\n",
    "                \"values\": [\"val1\", \"val2\"],\n",
    "                \"default\": \"val1\",\n",
    "            },\n",
    "            \"attr2\": {\n",
    "                \"type\": \"radio\",\n",
    "                \"values\": [True, False],\n",
    "                \"default\": False,\n",
    "            }\n",
    "        },\n",
    "    }\n",
    "}\n",
    "\n",
    "\n",
    "anno_key = \"cvat_basic_recipe6\"\n",
    "view.annotate(\n",
    "    anno_key,\n",
    "    label_field=\"ground_truth\",\n",
    "    label_schema=label_schema,\n",
    "    label_type=\"classifications\",\n",
    "    launch_editor=False,\n",
    "    backend=\"cvat\",\n",
    "    url=\"http://localhost:8080\"\n",
    ")"
   ]
  },
  {
   "cell_type": "code",
   "execution_count": null,
   "id": "5c35a8e0-148d-4327-b74b-203bf7203c3f",
   "metadata": {},
   "outputs": [],
   "source": []
  }
 ],
 "metadata": {
  "kernelspec": {
   "display_name": "dlvenv",
   "language": "python",
   "name": "dlvenv"
  },
  "language_info": {
   "codemirror_mode": {
    "name": "ipython",
    "version": 3
   },
   "file_extension": ".py",
   "mimetype": "text/x-python",
   "name": "python",
   "nbconvert_exporter": "python",
   "pygments_lexer": "ipython3",
   "version": "3.10.6"
  }
 },
 "nbformat": 4,
 "nbformat_minor": 5
}
