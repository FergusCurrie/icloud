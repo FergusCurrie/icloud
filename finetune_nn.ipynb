{
 "cells": [
  {
   "cell_type": "code",
   "execution_count": 1,
   "id": "095a7b6f-3063-497c-ad86-dfdca1ac8299",
   "metadata": {},
   "outputs": [],
   "source": [
    "from IPython.lib.deepreload import reload\n",
    "%load_ext autoreload\n",
    "%autoreload 2"
   ]
  },
  {
   "cell_type": "code",
   "execution_count": 2,
   "id": "fff255d4-8d75-4449-a2c8-1cfa4511afa0",
   "metadata": {},
   "outputs": [
    {
     "name": "stdout",
     "output_type": "stream",
     "text": [
      "/home/fergus/data/icloud_data/raw_icloud/IMG_4275.jpg\n"
     ]
    }
   ],
   "source": [
    "from pathlib import Path\n",
    "import os \n",
    "\n",
    "PATH = Path('/home/fergus/data/icloud_data/raw_icloud/')\n",
    "\n",
    "def load_photo(fn):\n",
    "    img = io.imread(fn)[...,:3]\n",
    "    return img \n",
    "\n",
    "fn = [x for x in PATH.iterdir()][0]\n",
    "print(fn)\n"
   ]
  },
  {
   "cell_type": "code",
   "execution_count": 3,
   "id": "c4dba400-35dc-49c7-b34d-cdc40087ada0",
   "metadata": {},
   "outputs": [
    {
     "name": "stderr",
     "output_type": "stream",
     "text": [
      "2023-07-30 14:07:15.340539: I tensorflow/core/platform/cpu_feature_guard.cc:193] This TensorFlow binary is optimized with oneAPI Deep Neural Network Library (oneDNN) to use the following CPU instructions in performance-critical operations:  AVX2 FMA\n",
      "To enable them in other operations, rebuild TensorFlow with the appropriate compiler flags.\n",
      "2023-07-30 14:07:15.844806: W tensorflow/compiler/xla/stream_executor/platform/default/dso_loader.cc:64] Could not load dynamic library 'libnvinfer.so.7'; dlerror: libnvinfer.so.7: cannot open shared object file: No such file or directory\n",
      "2023-07-30 14:07:15.844843: W tensorflow/compiler/xla/stream_executor/platform/default/dso_loader.cc:64] Could not load dynamic library 'libnvinfer_plugin.so.7'; dlerror: libnvinfer_plugin.so.7: cannot open shared object file: No such file or directory\n",
      "2023-07-30 14:07:15.844848: W tensorflow/compiler/tf2tensorrt/utils/py_utils.cc:38] TF-TRT Warning: Cannot dlopen some TensorRT libraries. If you would like to use Nvidia GPU with TensorRT, please make sure the missing libraries mentioned above are installed properly.\n"
     ]
    }
   ],
   "source": [
    "import tensorflow as tf"
   ]
  },
  {
   "cell_type": "code",
   "execution_count": 4,
   "id": "2bf96e80-248f-4703-b4fb-cf5c21065c5e",
   "metadata": {},
   "outputs": [
    {
     "name": "stdout",
     "output_type": "stream",
     "text": [
      "Sun Jul 30 14:07:16 2023       \n",
      "+-----------------------------------------------------------------------------+\n",
      "| NVIDIA-SMI 525.60.13    Driver Version: 525.60.13    CUDA Version: 12.0     |\n",
      "|-------------------------------+----------------------+----------------------+\n",
      "| GPU  Name        Persistence-M| Bus-Id        Disp.A | Volatile Uncorr. ECC |\n",
      "| Fan  Temp  Perf  Pwr:Usage/Cap|         Memory-Usage | GPU-Util  Compute M. |\n",
      "|                               |                      |               MIG M. |\n",
      "|===============================+======================+======================|\n",
      "|   0  NVIDIA GeForce ...  Off  | 00000000:03:00.0 Off |                  Off |\n",
      "|  0%   38C    P8    32W / 450W |     19MiB / 24564MiB |      0%      Default |\n",
      "|                               |                      |                  N/A |\n",
      "+-------------------------------+----------------------+----------------------+\n",
      "                                                                               \n",
      "+-----------------------------------------------------------------------------+\n",
      "| Processes:                                                                  |\n",
      "|  GPU   GI   CI        PID   Type   Process name                  GPU Memory |\n",
      "|        ID   ID                                                   Usage      |\n",
      "|=============================================================================|\n",
      "|    0   N/A  N/A      1295      G   /usr/lib/xorg/Xorg                  9MiB |\n",
      "|    0   N/A  N/A      1438      G   /usr/bin/gnome-shell                8MiB |\n",
      "+-----------------------------------------------------------------------------+\n"
     ]
    }
   ],
   "source": [
    "%%bash\n",
    "nvidia-smi"
   ]
  },
  {
   "cell_type": "code",
   "execution_count": 5,
   "id": "cbba23fb-2127-405c-b34d-b3736494ea9a",
   "metadata": {},
   "outputs": [],
   "source": [
    "from tensorflow.keras.applications.convnext import ConvNeXtTiny"
   ]
  },
  {
   "cell_type": "code",
   "execution_count": 6,
   "id": "61375c1f-65fb-4731-a658-b3c95bd35cd1",
   "metadata": {},
   "outputs": [],
   "source": [
    "model = tf.keras.applications.ConvNeXtTiny(\n",
    "    model_name=\"convnext_tiny\",\n",
    "    include_top=False,\n",
    "    include_preprocessing=True,\n",
    "    weights=\"imagenet\",\n",
    "    input_tensor=None,\n",
    "    input_shape=None,\n",
    "    pooling=None,\n",
    "    classes=1000,\n",
    "    classifier_activation=\"softmax\",\n",
    ")"
   ]
  },
  {
   "cell_type": "code",
   "execution_count": 7,
   "id": "31d8d56a-c586-4b7c-a076-394de4109a73",
   "metadata": {},
   "outputs": [
    {
     "data": {
      "text/plain": [
       "[<KerasTensor: shape=(None, None, None, 768) dtype=float32 (created by layer 'layer_normalization')>]"
      ]
     },
     "execution_count": 7,
     "metadata": {},
     "output_type": "execute_result"
    }
   ],
   "source": [
    "model.outputs"
   ]
  },
  {
   "cell_type": "markdown",
   "id": "f0cd7397-cf84-4986-a0a6-0dd938c31b98",
   "metadata": {},
   "source": [
    "# Finetuning on my dataset "
   ]
  },
  {
   "cell_type": "code",
   "execution_count": 9,
   "id": "881a65cf-4274-44c0-9f8c-95c2be0919a6",
   "metadata": {},
   "outputs": [],
   "source": [
    "import fiftyone as fo\n",
    "\n",
    "\n",
    "dataset = fo.load_dataset(\"icloud\")"
   ]
  },
  {
   "cell_type": "code",
   "execution_count": 13,
   "id": "f2dca0ad-0a4b-4a96-b780-47debb023b3a",
   "metadata": {},
   "outputs": [
    {
     "ename": "TypeError",
     "evalue": "SampleCollection.filter_labels() missing 1 required positional argument: 'filter'",
     "output_type": "error",
     "traceback": [
      "\u001b[0;31m---------------------------------------------------------------------------\u001b[0m",
      "\u001b[0;31mTypeError\u001b[0m                                 Traceback (most recent call last)",
      "Cell \u001b[0;32mIn[13], line 1\u001b[0m\n\u001b[0;32m----> 1\u001b[0m view \u001b[38;5;241m=\u001b[39m \u001b[43mdataset\u001b[49m\u001b[38;5;241;43m.\u001b[39;49m\u001b[43mfilter_labels\u001b[49m\u001b[43m(\u001b[49m\u001b[38;5;124;43m\"\u001b[39;49m\u001b[38;5;124;43mground_truth\u001b[39;49m\u001b[38;5;124;43m\"\u001b[39;49m\u001b[43m)\u001b[49m\n",
      "\u001b[0;31mTypeError\u001b[0m: SampleCollection.filter_labels() missing 1 required positional argument: 'filter'"
     ]
    }
   ],
   "source": [
    "view = dataset.filter_labels(\"ground_truth\")"
   ]
  },
  {
   "cell_type": "code",
   "execution_count": 31,
   "id": "5196661f-e565-4ac0-b778-96fb0397adec",
   "metadata": {},
   "outputs": [
    {
     "data": {
      "text/plain": [
       "Dataset:     icloud\n",
       "Media type:  image\n",
       "Num samples: 99\n",
       "Sample fields:\n",
       "    id:             fiftyone.core.fields.ObjectIdField\n",
       "    filepath:       fiftyone.core.fields.StringField\n",
       "    tags:           fiftyone.core.fields.ListField(fiftyone.core.fields.StringField)\n",
       "    metadata:       fiftyone.core.fields.EmbeddedDocumentField(fiftyone.core.metadata.ImageMetadata)\n",
       "    tfrecord:       fiftyone.core.fields.BooleanField\n",
       "    ('new_field',): fiftyone.core.fields.EmbeddedDocumentField(fiftyone.core.labels.Classifications)\n",
       "View stages:\n",
       "    1. Match(filter={\"('new_field',)\": {'$exists': True}})"
      ]
     },
     "execution_count": 31,
     "metadata": {},
     "output_type": "execute_result"
    }
   ],
   "source": [
    "# Create a view containing only labeled samples\n",
    "labeled_view = dataset.match({\"('new_field',)\": {\"$exists\": True}})\n",
    "labeled_view"
   ]
  },
  {
   "cell_type": "code",
   "execution_count": 32,
   "id": "980afd26-7035-433d-91af-b5757361b25d",
   "metadata": {},
   "outputs": [
    {
     "ename": "KeyError",
     "evalue": "'Accessing samples by numeric index is not supported. Use sample IDs, filepaths, slices, boolean arrays, or a boolean ViewExpression instead'",
     "output_type": "error",
     "traceback": [
      "\u001b[0;31m---------------------------------------------------------------------------\u001b[0m",
      "\u001b[0;31mKeyError\u001b[0m                                  Traceback (most recent call last)",
      "Cell \u001b[0;32mIn[32], line 1\u001b[0m\n\u001b[0;32m----> 1\u001b[0m \u001b[43mlabeled_view\u001b[49m\u001b[43m[\u001b[49m\u001b[38;5;241;43m0\u001b[39;49m\u001b[43m]\u001b[49m\n",
      "File \u001b[0;32m~/.local/lib/python3.10/site-packages/fiftyone/core/view.py:95\u001b[0m, in \u001b[0;36mDatasetView.__getitem__\u001b[0;34m(self, id_filepath_slice)\u001b[0m\n\u001b[1;32m     93\u001b[0m \u001b[38;5;28;01mdef\u001b[39;00m \u001b[38;5;21m__getitem__\u001b[39m(\u001b[38;5;28mself\u001b[39m, id_filepath_slice):\n\u001b[1;32m     94\u001b[0m     \u001b[38;5;28;01mif\u001b[39;00m \u001b[38;5;28misinstance\u001b[39m(id_filepath_slice, numbers\u001b[38;5;241m.\u001b[39mIntegral):\n\u001b[0;32m---> 95\u001b[0m         \u001b[38;5;28;01mraise\u001b[39;00m \u001b[38;5;167;01mKeyError\u001b[39;00m(\n\u001b[1;32m     96\u001b[0m             \u001b[38;5;124m\"\u001b[39m\u001b[38;5;124mAccessing samples by numeric index is not supported. \u001b[39m\u001b[38;5;124m\"\u001b[39m\n\u001b[1;32m     97\u001b[0m             \u001b[38;5;124m\"\u001b[39m\u001b[38;5;124mUse sample IDs, filepaths, slices, boolean arrays, or a \u001b[39m\u001b[38;5;124m\"\u001b[39m\n\u001b[1;32m     98\u001b[0m             \u001b[38;5;124m\"\u001b[39m\u001b[38;5;124mboolean ViewExpression instead\u001b[39m\u001b[38;5;124m\"\u001b[39m\n\u001b[1;32m     99\u001b[0m         )\n\u001b[1;32m    101\u001b[0m     \u001b[38;5;28;01mif\u001b[39;00m \u001b[38;5;28misinstance\u001b[39m(id_filepath_slice, \u001b[38;5;28mslice\u001b[39m):\n\u001b[1;32m    102\u001b[0m         \u001b[38;5;28;01mreturn\u001b[39;00m \u001b[38;5;28mself\u001b[39m\u001b[38;5;241m.\u001b[39m_slice(id_filepath_slice)\n",
      "\u001b[0;31mKeyError\u001b[0m: 'Accessing samples by numeric index is not supported. Use sample IDs, filepaths, slices, boolean arrays, or a boolean ViewExpression instead'"
     ]
    }
   ],
   "source": [
    "labeled_view[0]"
   ]
  },
  {
   "cell_type": "code",
   "execution_count": 47,
   "id": "67334d13-b8bc-470a-ad8e-a637f0905e29",
   "metadata": {},
   "outputs": [
    {
     "name": "stdout",
     "output_type": "stream",
     "text": [
      "99\n",
      "99\n"
     ]
    },
    {
     "data": {
      "text/plain": [
       "(None, None)"
      ]
     },
     "execution_count": 47,
     "metadata": {},
     "output_type": "execute_result"
    }
   ],
   "source": [
    "import matplotlib.pyplot as plt \n",
    "\n",
    "images, labels = [], []\n",
    "for img in labeled_view:\n",
    "    #print(img)\n",
    "    filepath: str = img.filepath\n",
    "    a_labels = []\n",
    "    for classification in img[\"('new_field',)\"].classifications:\n",
    "        a_labels.append(classification.label)\n",
    "    image = tf.io.decode_jpeg(tf.io.read_file(filepath))\n",
    "    images.append(image)\n",
    "    labels.append(a_labels)\n",
    "print(len(images)),  print(len(labels))                            \n"
   ]
  },
  {
   "cell_type": "code",
   "execution_count": 51,
   "id": "90a671e6-3e08-4bf4-95a0-a6e9d4dd20ec",
   "metadata": {},
   "outputs": [],
   "source": [
    "# resizing \n",
    "images = [tf.image.resize(image, [224, 224], method=tf.image.ResizeMethod.NEAREST_NEIGHBOR) for image in images]"
   ]
  },
  {
   "cell_type": "code",
   "execution_count": 53,
   "id": "a2b708bb-fbff-4d1e-9eb6-2dfbd1ddedb9",
   "metadata": {},
   "outputs": [],
   "source": [
    "images_dataset = tf.data.Dataset.from_tensor_slices(images)"
   ]
  },
  {
   "cell_type": "code",
   "execution_count": 55,
   "id": "d4b080d4-dca6-40b0-9b7d-61bca6b2f218",
   "metadata": {},
   "outputs": [],
   "source": [
    "fergus_labels = [1 if 'fergus' in label else 0 for label in labels]\n",
    "labels_dataset = tf.data.Dataset.from_tensor_slices(fergus_labels)"
   ]
  },
  {
   "cell_type": "code",
   "execution_count": 57,
   "id": "39ca82ff-99b5-4d82-a673-4d60ea421f25",
   "metadata": {},
   "outputs": [],
   "source": [
    "dataset = tf.data.Dataset.zip((images_dataset, labels_dataset))"
   ]
  },
  {
   "cell_type": "code",
   "execution_count": 85,
   "id": "3c5ba975-2bab-468d-b4d6-e615c01bad35",
   "metadata": {},
   "outputs": [],
   "source": [
    "dataset = tf.data.Dataset.from_tensor_slices((images, fergus_labels))"
   ]
  },
  {
   "cell_type": "markdown",
   "id": "ccb55ad4-96f1-4531-82fe-847871ee846d",
   "metadata": {},
   "source": [
    "# Preparing new model"
   ]
  },
  {
   "cell_type": "code",
   "execution_count": 116,
   "id": "6691b594-1783-4b25-a72a-ffa4ec27ca42",
   "metadata": {},
   "outputs": [
    {
     "name": "stdout",
     "output_type": "stream",
     "text": [
      "Model: \"model_5\"\n",
      "_________________________________________________________________\n",
      " Layer (type)                Output Shape              Param #   \n",
      "=================================================================\n",
      " input_1 (InputLayer)        [(None, None, None, 3)]   0         \n",
      "                                                                 \n",
      " convnext_tiny (Functional)  (None, None, None, 768)   27820128  \n",
      "                                                                 \n",
      " global_average_pooling2d_5   (None, 768)              0         \n",
      " (GlobalAveragePooling2D)                                        \n",
      "                                                                 \n",
      " dense_9 (Dense)             (None, 256)               196864    \n",
      "                                                                 \n",
      " dense_10 (Dense)            (None, 2)                 514       \n",
      "                                                                 \n",
      "=================================================================\n",
      "Total params: 28,017,506\n",
      "Trainable params: 28,017,506\n",
      "Non-trainable params: 0\n",
      "_________________________________________________________________\n"
     ]
    }
   ],
   "source": [
    "\n",
    "def get_model():\n",
    "    inputs = model.inputs\n",
    "    x = model(inputs)\n",
    "    x = tf.keras.layers.GlobalAveragePooling2D()(x)\n",
    "    x = tf.keras.layers.Dense(256, activation=tf.nn.softmax)(x)\n",
    "    outputs = tf.keras.layers.Dense(2, activation=tf.nn.softmax)(x)\n",
    "    finetune_model = tf.keras.Model(inputs=inputs, outputs=outputs)\n",
    "    return finetune_model\n",
    "finetune_model = get_model()\n",
    "finetune_model.summary()"
   ]
  },
  {
   "cell_type": "code",
   "execution_count": 117,
   "id": "57cac32e-85e2-4ffe-bf74-fc461d995b5f",
   "metadata": {},
   "outputs": [],
   "source": [
    "from sklearn.metrics import accuracy_score \n",
    "import numpy as np\n",
    "\n",
    "def model_eval():\n",
    "    preds = []\n",
    "    for img, label in dataset:\n",
    "        pred = finetune_model(img)\n",
    "        preds.append(np.argmax(pred.numpy()))\n",
    "    return preds\n",
    "\n",
    "preds = model_eval()"
   ]
  },
  {
   "cell_type": "code",
   "execution_count": 118,
   "id": "db03be63-c78c-4b43-9123-12bef1cdc922",
   "metadata": {},
   "outputs": [
    {
     "data": {
      "text/plain": [
       "0.7474747474747475"
      ]
     },
     "execution_count": 118,
     "metadata": {},
     "output_type": "execute_result"
    }
   ],
   "source": [
    "accuracy_score(fergus_labels, preds)"
   ]
  },
  {
   "cell_type": "markdown",
   "id": "e49e4312-5605-478c-91ba-ebec733c4c3a",
   "metadata": {},
   "source": [
    "nice random prediction head = random guessing"
   ]
  },
  {
   "cell_type": "markdown",
   "id": "159da864-57d8-472d-8591-a0e44e1dd7dd",
   "metadata": {},
   "source": [
    "# Training"
   ]
  },
  {
   "cell_type": "code",
   "execution_count": 120,
   "id": "42d25a5c-1c0a-4a2a-abab-7d7ab438d96a",
   "metadata": {},
   "outputs": [
    {
     "name": "stdout",
     "output_type": "stream",
     "text": [
      "Epoch 1/10\n",
      "7/7 [==============================] - 17s 82ms/step - loss: 0.6931\n",
      "Epoch 2/10\n",
      "7/7 [==============================] - 1s 81ms/step - loss: 0.6931\n",
      "Epoch 3/10\n",
      "7/7 [==============================] - 1s 81ms/step - loss: 0.6931\n",
      "Epoch 4/10\n",
      "7/7 [==============================] - 1s 81ms/step - loss: 0.6931\n",
      "Epoch 5/10\n",
      "7/7 [==============================] - 1s 81ms/step - loss: 0.6931\n",
      "Epoch 6/10\n",
      "7/7 [==============================] - 1s 81ms/step - loss: 0.6931\n",
      "Epoch 7/10\n",
      "7/7 [==============================] - 1s 81ms/step - loss: 0.6931\n",
      "Epoch 8/10\n",
      "7/7 [==============================] - 1s 81ms/step - loss: 0.6931\n",
      "Epoch 9/10\n",
      "7/7 [==============================] - 1s 81ms/step - loss: 0.6931\n",
      "Epoch 10/10\n",
      "7/7 [==============================] - 1s 81ms/step - loss: 0.6931\n"
     ]
    }
   ],
   "source": [
    "finetune_model = get_model()\n",
    "finetune_model.compile(optimizer=tf.keras.optimizers.Adam(), loss=tf.keras.losses.BinaryCrossentropy())\n",
    "history = finetune_model.fit(dataset.batch(16), epochs=10)"
   ]
  },
  {
   "cell_type": "code",
   "execution_count": 122,
   "id": "58f0c773-25db-47b8-a0e6-2439f6dc9e72",
   "metadata": {},
   "outputs": [
    {
     "data": {
      "text/plain": [
       "{'loss': [0.6931484341621399,\n",
       "  0.693147599697113,\n",
       "  0.6931474208831787,\n",
       "  0.6931473016738892,\n",
       "  0.6931474208831787,\n",
       "  0.693147599697113,\n",
       "  0.6931473612785339,\n",
       "  0.6931471228599548,\n",
       "  0.6931470036506653,\n",
       "  0.6931470036506653]}"
      ]
     },
     "execution_count": 122,
     "metadata": {},
     "output_type": "execute_result"
    }
   ],
   "source": [
    "history.history"
   ]
  },
  {
   "cell_type": "code",
   "execution_count": 125,
   "id": "24d77ac0-6e2a-4912-a6da-14807d23526c",
   "metadata": {},
   "outputs": [
    {
     "data": {
      "text/plain": [
       "[<matplotlib.lines.Line2D at 0x7f6ae14f99c0>]"
      ]
     },
     "execution_count": 125,
     "metadata": {},
     "output_type": "execute_result"
    },
    {
     "data": {
      "image/png": "[encoded data removed]",
      "text/plain": [
       "<Figure size 2000x1000 with 1 Axes>"
      ]
     },
     "metadata": {},
     "output_type": "display_data"
    }
   ],
   "source": [
    "fig, axs = plt.subplots(1,1,figsize=(20,10))\n",
    "axs.plot(np.arange(10), history.history['loss'])"
   ]
  },
  {
   "cell_type": "markdown",
   "id": "e6d33bdf-9f61-417d-b6cb-d13f01703dce",
   "metadata": {},
   "source": [
    "loss doesn't change, but have no data. "
   ]
  },
  {
   "cell_type": "code",
   "execution_count": null,
   "id": "3b5e609d-506a-44cf-b568-13579d623ca9",
   "metadata": {},
   "outputs": [],
   "source": []
  }
 ],
 "metadata": {
  "kernelspec": {
   "display_name": "dlvenv",
   "language": "python",
   "name": "dlvenv"
  },
  "language_info": {
   "codemirror_mode": {
    "name": "ipython",
    "version": 3
   },
   "file_extension": ".py",
   "mimetype": "text/x-python",
   "name": "python",
   "nbconvert_exporter": "python",
   "pygments_lexer": "ipython3",
   "version": "3.10.6"
  }
 },
 "nbformat": 4,
 "nbformat_minor": 5
}
